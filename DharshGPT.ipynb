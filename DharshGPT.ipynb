{
 "cells": [
  {
   "cell_type": "code",
   "execution_count": 14,
   "metadata": {},
   "outputs": [],
   "source": [
    "from transformers import AutoTokenizer, AutoModelForCausalLM, pipeline"
   ]
  },
  {
   "cell_type": "code",
   "execution_count": 8,
   "metadata": {},
   "outputs": [
    {
     "name": "stderr",
     "output_type": "stream",
     "text": [
      "c:\\Users\\Dharshan\\.conda\\envs\\pytorch\\Lib\\site-packages\\huggingface_hub\\file_download.py:148: UserWarning: `huggingface_hub` cache-system uses symlinks by default to efficiently store duplicated files but your machine does not support them in C:\\Users\\Dharshan\\.cache\\huggingface\\hub\\models--TheBloke--Mistral-7B-Instruct-v0.2-AWQ. Caching files will still work but in a degraded version that might require more space on your disk. This warning can be disabled by setting the `HF_HUB_DISABLE_SYMLINKS_WARNING` environment variable. For more details, see https://huggingface.co/docs/huggingface_hub/how-to-cache#limitations.\n",
      "To support symlinks on Windows, you either need to activate Developer Mode or to run Python as an administrator. In order to see activate developer mode, see this article: https://docs.microsoft.com/en-us/windows/apps/get-started/enable-your-device-for-development\n",
      "  warnings.warn(message)\n"
     ]
    }
   ],
   "source": [
    "model_name = \"TheBloke/Mistral-7B-Instruct-v0.2-AWQ\"\n",
    "tokenizer = AutoTokenizer.from_pretrained(model_name)\n",
    "model = AutoModelForCausalLM.from_pretrained(\n",
    "    model_name,\n",
    "    low_cpu_mem_usage=True, \n",
    "    device_map=\"cuda:0\", \n",
    ")"
   ]
  },
  {
   "cell_type": "code",
   "execution_count": 16,
   "metadata": {},
   "outputs": [],
   "source": [
    "\n",
    "def generate_response(prompt):\n",
    "\n",
    "    prompt_template=f'''<s>[INST] {prompt} [/INST]\n",
    "    '''\n",
    "\n",
    "    generation_params = {\n",
    "        \"do_sample\": True,\n",
    "        \"temperature\": 0.7,\n",
    "        \"top_p\": 0.95,\n",
    "        \"top_k\": 40,\n",
    "        \"max_new_tokens\": 512,\n",
    "        \"repetition_penalty\": 1.1\n",
    "    }\n",
    "    \n",
    "    pipe = pipeline(\n",
    "        \"text-generation\",\n",
    "        model=model,\n",
    "        tokenizer=tokenizer,\n",
    "        pad_token_id=tokenizer.eos_token_id,\n",
    "        **generation_params\n",
    "    )\n",
    "\n",
    "    pipe_output = pipe(prompt_template)[0]['generated_text']\n",
    "\n",
    "    return pipe_output"
   ]
  },
  {
   "cell_type": "code",
   "execution_count": 22,
   "metadata": {},
   "outputs": [
    {
     "name": "stdout",
     "output_type": "stream",
     "text": [
      "Welcome to DharshGPT, you can get your questions answered here. Type 'exit()' to exit\n",
      "DharshGPT:  1. Number of Drivers and Cars: A maximum of 20 cars, each driven by a single driver, are allowed to take part in a Formula One race.\n",
      "\n",
      "    2. Weight and Fuel: The minimum weight of a car is 730 kg (with the driver), and a maximum of 102 kg of fuel can be used during a race.\n",
      "\n",
      "    3. Engine Regulations: Each team is allowed to use a certain number of engines and engine components throughout the season. In recent years, teams have been limited to using 3 power unit elements per season.\n",
      "\n",
      "    4. Tire Rules: Teams must use the same type of tires for the entire race weekend (qualifying and races). However, they can choose which compound (soft, medium or hard) to use. Since 2018, teams are allowed to use up to 11 sets of tires during the course of a weekend, with some limitations on the number of new sets that can be used in qualifying and races.\n",
      "\n",
      "    5. Driver Changes: A driver change is allowed only if a medical condition arises that necessitates it, or if both drivers are entered for the race. In such cases, the driver change must occur before the pit lane closes prior to the start of the race.\n",
      "\n",
      "    6. Fair Play: Several regulations aim at ensuring fair play and preventing dangerous driving. These include rules against blocking other drivers, touching or interfering with other cars, and intentionally causing collisions.\n",
      "\n",
      "    7. Race Duration: An F1 race must last for a minimum of two hours. If the race does not reach this duration due to weather conditions or other reasons, the result will be determined based on the current position of drivers when the race is stopped.\n",
      "\n",
      "    8. Scoring: Points are awarded to the top 10 finishers in a race, with 25 points for the winner, 18 for second place, 15 for third, 12 for fourth, 10 for fifth, 8 for sixth, 6 for seventh, 4 for eighth, and 2 for ninth and tenth places.\n",
      "\n",
      "    9. Championship Standings: At the end of the championship season, the driver who has accumulated the most points from the races becomes the World Champion. Similarly, the constructor whose cars have earned the most points collectively is declared the Construct\n",
      "********************************************************************************************************************************************************************************************************\n"
     ]
    }
   ],
   "source": [
    "print(\"Welcome to DharshGPT, you can get your questions answered here. Type 'exit()' to exit\")\n",
    "\n",
    "while True:\n",
    "\n",
    "    user_input = str(input(\"User: \"))\n",
    "\n",
    "    if user_input == \"exit()\":\n",
    "      break\n",
    "    else:\n",
    "      output = generate_response(user_input)\n",
    "\n",
    "      if output.startswith(\"<s>[INST]\"):\n",
    "        index = output.find(\"[/INST]\")\n",
    "        output = output[index+12:]\n",
    "      print(\"DharshGPT: \",output)\n",
    "      print(\"**\"*100)"
   ]
  },
  {
   "cell_type": "code",
   "execution_count": null,
   "metadata": {},
   "outputs": [],
   "source": []
  }
 ],
 "metadata": {
  "kernelspec": {
   "display_name": "pytorch",
   "language": "python",
   "name": "python3"
  },
  "language_info": {
   "codemirror_mode": {
    "name": "ipython",
    "version": 3
   },
   "file_extension": ".py",
   "mimetype": "text/x-python",
   "name": "python",
   "nbconvert_exporter": "python",
   "pygments_lexer": "ipython3",
   "version": "3.11.8"
  }
 },
 "nbformat": 4,
 "nbformat_minor": 2
}
